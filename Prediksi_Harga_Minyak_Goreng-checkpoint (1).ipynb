{
 "cells": [
  {
   "cell_type": "code",
   "execution_count": 1,
   "id": "bb3473a6",
   "metadata": {},
   "outputs": [],
   "source": [
    "import os\n",
    "import warnings\n",
    "warnings.filterwarnings('ignore')\n",
    "from pyspark.sql import SparkSession\n",
    "from pyspark.sql.types import StructField, StructType, TimestampType, IntegerType\n",
    "from pyspark.sql.functions import split, count, when, isnan, col, regexp_replace\n",
    "from pyspark.ml.regression import LinearRegression\n",
    "from pyspark.ml.feature import OneHotEncoder, StringIndexer\n",
    "from pyspark.ml.linalg import Vectors\n",
    "from pyspark.ml.feature import VectorAssembler"
   ]
  },
  {
   "cell_type": "code",
   "execution_count": 2,
   "id": "d2f04577",
   "metadata": {},
   "outputs": [
    {
     "name": "stdout",
     "output_type": "stream",
     "text": [
      "Spark Version: 3.5.0\n"
     ]
    }
   ],
   "source": [
    "spark = SparkSession.builder.appName('First Session').getOrCreate()\n",
    "\n",
    "print('Spark Version: {}'.format(spark.version))"
   ]
  },
  {
   "cell_type": "code",
   "execution_count": 3,
   "id": "3cc36ba1",
   "metadata": {},
   "outputs": [
    {
     "name": "stdout",
     "output_type": "stream",
     "text": [
      "+----------+-------------+-------------+---------------+-------------+-------------+\n",
      "|   Tanggal|Jakarta Barat|Jakarta Pusat|Jakarta Selatan|Jakarta Timur|Jakarta Utara|\n",
      "+----------+-------------+-------------+---------------+-------------+-------------+\n",
      "|2021-01-01|        14143|        13800|          14400|        13542|        13813|\n",
      "|2021-01-02|        14000|        13700|          14500|        13375|        13813|\n",
      "|2021-01-03|        14143|        13700|          14350|        13542|        13813|\n",
      "|2021-01-04|        13929|        13750|          14250|        13542|        13813|\n",
      "|2021-01-05|        14000|        13850|          14200|        13542|        13813|\n",
      "+----------+-------------+-------------+---------------+-------------+-------------+\n",
      "only showing top 5 rows\n",
      "\n"
     ]
    }
   ],
   "source": [
    "#Defining a Schema\n",
    "schema = StructType([StructField('Tanggal', TimestampType(), nullable = True),\n",
    "                     StructField('DKI Jakarta', IntegerType(), nullable = True),\n",
    "                     StructField('Jakarta Barat', IntegerType(), nullable = True),\n",
    "                     StructField('Jakarta Selatan', IntegerType(), nullable = True),\n",
    "                     StructField('Jakarta Timur', IntegerType(), nullable = True),\n",
    "                     StructField('Jakarta Utara', IntegerType(), nullable = True)])\n",
    "\n",
    "file_path = 'dataset_minyak_3tahun.csv'\n",
    "\n",
    "df = spark.read.csv(file_path,\n",
    "                    header = True,\n",
    "                    inferSchema = True,\n",
    "                    nanValue = '?')\n",
    "\n",
    "df.show(5)"
   ]
  },
  {
   "cell_type": "code",
   "execution_count": 4,
   "id": "02924e70",
   "metadata": {},
   "outputs": [
    {
     "name": "stdout",
     "output_type": "stream",
     "text": [
      "1086\n"
     ]
    }
   ],
   "source": [
    "# Tampilkan jumlah data\n",
    "print(df.count())"
   ]
  },
  {
   "cell_type": "code",
   "execution_count": 5,
   "id": "9fb59d85",
   "metadata": {},
   "outputs": [
    {
     "data": {
      "text/plain": [
       "['Tanggal',\n",
       " 'Jakarta Barat',\n",
       " 'Jakarta Pusat',\n",
       " 'Jakarta Selatan',\n",
       " 'Jakarta Timur',\n",
       " 'Jakarta Utara']"
      ]
     },
     "execution_count": 5,
     "metadata": {},
     "output_type": "execute_result"
    }
   ],
   "source": [
    "#Check column names\n",
    "df.columns"
   ]
  },
  {
   "cell_type": "code",
   "execution_count": 6,
   "id": "2472c7b6",
   "metadata": {},
   "outputs": [
    {
     "data": {
      "text/html": [
       "<div>\n",
       "<style scoped>\n",
       "    .dataframe tbody tr th:only-of-type {\n",
       "        vertical-align: middle;\n",
       "    }\n",
       "\n",
       "    .dataframe tbody tr th {\n",
       "        vertical-align: top;\n",
       "    }\n",
       "\n",
       "    .dataframe thead th {\n",
       "        text-align: right;\n",
       "    }\n",
       "</style>\n",
       "<table border=\"1\" class=\"dataframe\">\n",
       "  <thead>\n",
       "    <tr style=\"text-align: right;\">\n",
       "      <th></th>\n",
       "      <th>Tanggal</th>\n",
       "      <th>Jakarta Barat</th>\n",
       "      <th>Jakarta Pusat</th>\n",
       "      <th>Jakarta Selatan</th>\n",
       "      <th>Jakarta Timur</th>\n",
       "      <th>Jakarta Utara</th>\n",
       "    </tr>\n",
       "  </thead>\n",
       "  <tbody>\n",
       "    <tr>\n",
       "      <th>0</th>\n",
       "      <td>2021-01-01</td>\n",
       "      <td>14143</td>\n",
       "      <td>13800.0</td>\n",
       "      <td>14400</td>\n",
       "      <td>13542</td>\n",
       "      <td>13813</td>\n",
       "    </tr>\n",
       "    <tr>\n",
       "      <th>1</th>\n",
       "      <td>2021-01-02</td>\n",
       "      <td>14000</td>\n",
       "      <td>13700.0</td>\n",
       "      <td>14500</td>\n",
       "      <td>13375</td>\n",
       "      <td>13813</td>\n",
       "    </tr>\n",
       "    <tr>\n",
       "      <th>2</th>\n",
       "      <td>2021-01-03</td>\n",
       "      <td>14143</td>\n",
       "      <td>13700.0</td>\n",
       "      <td>14350</td>\n",
       "      <td>13542</td>\n",
       "      <td>13813</td>\n",
       "    </tr>\n",
       "    <tr>\n",
       "      <th>3</th>\n",
       "      <td>2021-01-04</td>\n",
       "      <td>13929</td>\n",
       "      <td>13750.0</td>\n",
       "      <td>14250</td>\n",
       "      <td>13542</td>\n",
       "      <td>13813</td>\n",
       "    </tr>\n",
       "    <tr>\n",
       "      <th>4</th>\n",
       "      <td>2021-01-05</td>\n",
       "      <td>14000</td>\n",
       "      <td>13850.0</td>\n",
       "      <td>14200</td>\n",
       "      <td>13542</td>\n",
       "      <td>13813</td>\n",
       "    </tr>\n",
       "  </tbody>\n",
       "</table>\n",
       "</div>"
      ],
      "text/plain": [
       "      Tanggal  Jakarta Barat  Jakarta Pusat  Jakarta Selatan  Jakarta Timur  \\\n",
       "0  2021-01-01          14143        13800.0            14400          13542   \n",
       "1  2021-01-02          14000        13700.0            14500          13375   \n",
       "2  2021-01-03          14143        13700.0            14350          13542   \n",
       "3  2021-01-04          13929        13750.0            14250          13542   \n",
       "4  2021-01-05          14000        13850.0            14200          13542   \n",
       "\n",
       "   Jakarta Utara  \n",
       "0          13813  \n",
       "1          13813  \n",
       "2          13813  \n",
       "3          13813  \n",
       "4          13813  "
      ]
     },
     "execution_count": 6,
     "metadata": {},
     "output_type": "execute_result"
    }
   ],
   "source": [
    "#Display data with pandas format\n",
    "df.toPandas().head()"
   ]
  },
  {
   "cell_type": "code",
   "execution_count": 7,
   "id": "90a8726b",
   "metadata": {},
   "outputs": [
    {
     "name": "stdout",
     "output_type": "stream",
     "text": [
      "root\n",
      " |-- Tanggal: date (nullable = true)\n",
      " |-- Jakarta Barat: integer (nullable = true)\n",
      " |-- Jakarta Pusat: integer (nullable = true)\n",
      " |-- Jakarta Selatan: integer (nullable = true)\n",
      " |-- Jakarta Timur: integer (nullable = true)\n",
      " |-- Jakarta Utara: integer (nullable = true)\n",
      "\n"
     ]
    }
   ],
   "source": [
    "#Check the schema\n",
    "df.printSchema()"
   ]
  },
  {
   "cell_type": "code",
   "execution_count": 8,
   "id": "71ac71dd",
   "metadata": {},
   "outputs": [
    {
     "name": "stdout",
     "output_type": "stream",
     "text": [
      "+-------+-----------------+------------------+------------------+------------------+------------------+\n",
      "|summary|    Jakarta Barat|     Jakarta Pusat|   Jakarta Selatan|     Jakarta Timur|     Jakarta Utara|\n",
      "+-------+-----------------+------------------+------------------+------------------+------------------+\n",
      "|  count|             1086|              1085|              1086|              1086|              1086|\n",
      "|   mean|16009.45488029466|15894.107834101382| 16210.82965009208|15781.101289134438|15845.511049723757|\n",
      "| stddev|1618.664296391923|1623.9473497680397|1951.2960021495544|1658.4273836879597|1717.4257972332373|\n",
      "|    min|            13267|             13450|             13800|             13375|             13417|\n",
      "|    max|            20250|             19650|             22286|             20100|             22000|\n",
      "+-------+-----------------+------------------+------------------+------------------+------------------+\n",
      "\n"
     ]
    }
   ],
   "source": [
    "#statistical summary of dataframe\n",
    "df.describe().show()"
   ]
  },
  {
   "cell_type": "code",
   "execution_count": 9,
   "id": "faedc59a",
   "metadata": {},
   "outputs": [
    {
     "name": "stdout",
     "output_type": "stream",
     "text": [
      "+-------+------------------+------------------+\n",
      "|summary|     Jakarta Pusat|   Jakarta Selatan|\n",
      "+-------+------------------+------------------+\n",
      "|  count|              1085|              1086|\n",
      "|   mean|15894.107834101382| 16210.82965009208|\n",
      "| stddev|1623.9473497680397|1951.2960021495544|\n",
      "|    min|             13450|             13800|\n",
      "|    max|             19650|             22286|\n",
      "+-------+------------------+------------------+\n",
      "\n"
     ]
    }
   ],
   "source": [
    "#describe with specific variables\n",
    "df.describe(['Jakarta Pusat', 'Jakarta Selatan']).show()"
   ]
  },
  {
   "cell_type": "code",
   "execution_count": 10,
   "id": "97abcc37",
   "metadata": {},
   "outputs": [
    {
     "name": "stdout",
     "output_type": "stream",
     "text": [
      "+-------+-----------------+------------------+------------------+------------------+------------------+\n",
      "|summary|    Jakarta Barat|     Jakarta Pusat|   Jakarta Selatan|     Jakarta Timur|     Jakarta Utara|\n",
      "+-------+-----------------+------------------+------------------+------------------+------------------+\n",
      "|  count|             1086|              1085|              1086|              1086|              1086|\n",
      "|   mean|16009.45488029466|15894.107834101382| 16210.82965009208|15781.101289134438|15845.511049723757|\n",
      "| stddev|1618.664296391923|1623.9473497680397|1951.2960021495544|1658.4273836879597|1717.4257972332373|\n",
      "|    min|            13267|             13450|             13800|             13375|             13417|\n",
      "|    max|            20250|             19650|             22286|             20100|             22000|\n",
      "+-------+-----------------+------------------+------------------+------------------+------------------+\n",
      "\n"
     ]
    }
   ],
   "source": [
    "#describe with numerical columns\n",
    "def get_num_cols(dataframe):\n",
    "    \n",
    "    num_cols = [col for col in dataframe.columns if dataframe.select(col). \\\n",
    "                dtypes[0][1] in ['double', 'int']]\n",
    "    \n",
    "    return num_cols\n",
    "\n",
    "num_cols = get_num_cols(df)\n",
    "    \n",
    "df.describe(num_cols).show()"
   ]
  },
  {
   "cell_type": "code",
   "execution_count": 11,
   "id": "b8704764",
   "metadata": {},
   "outputs": [
    {
     "name": "stdout",
     "output_type": "stream",
     "text": [
      "+----------+-------------+-------------+---------------+-------------+-------------+\n",
      "|   Tanggal|Jakarta Barat|Jakarta Pusat|Jakarta Selatan|Jakarta Timur|Jakarta Utara|\n",
      "+----------+-------------+-------------+---------------+-------------+-------------+\n",
      "|2021-11-08|        18083|        18300|          19300|        18500|        17875|\n",
      "|2021-11-11|        18583|        18200|          19400|        18750|        18429|\n",
      "|2021-11-17|        19250|        18100|          19400|        18875|        19214|\n",
      "|2021-11-18|        19250|        18200|          19500|        18875|        19357|\n",
      "|2021-11-19|        19417|        18200|          19600|        18917|        19071|\n",
      "+----------+-------------+-------------+---------------+-------------+-------------+\n",
      "only showing top 5 rows\n",
      "\n"
     ]
    }
   ],
   "source": [
    "#Filter & sortir\n",
    "df.filter(df['Jakarta Timur'] > 18000).filter(df['Jakarta Barat'] > 18000).filter(df['Jakarta Utara'] > 17000).filter(df['Jakarta Selatan'] > 18000).filter(df['Jakarta Pusat'] > 18000).show(5)"
   ]
  },
  {
   "cell_type": "code",
   "execution_count": 12,
   "id": "1a921d9b",
   "metadata": {},
   "outputs": [
    {
     "name": "stdout",
     "output_type": "stream",
     "text": [
      "+----------+\n",
      "|   Tanggal|\n",
      "+----------+\n",
      "|2021-11-11|\n",
      "|2021-11-17|\n",
      "|2021-11-18|\n",
      "|2021-11-19|\n",
      "|2021-11-20|\n",
      "+----------+\n",
      "only showing top 5 rows\n",
      "\n"
     ]
    }
   ],
   "source": [
    "#Multiple Conditions\n",
    "df.filter((df['Jakarta Barat'] > 18000) & \n",
    "          (df['Jakarta Pusat'] > 18000) & \n",
    "          (df['Jakarta Selatan'] > 18000) & \n",
    "          (df['Jakarta Timur'] > 18000) &\n",
    "          (df['Jakarta Utara'] > 18000)).select('Tanggal').show(5)"
   ]
  },
  {
   "cell_type": "code",
   "execution_count": 13,
   "id": "72786900",
   "metadata": {},
   "outputs": [
    {
     "name": "stdout",
     "output_type": "stream",
     "text": [
      "+----------+-------------+---------------+\n",
      "|   Tanggal|Jakarta Pusat|Jakarta Selatan|\n",
      "+----------+-------------+---------------+\n",
      "|2021-12-24|        19500|          20000|\n",
      "|2022-01-20|        19450|          20000|\n",
      "|2021-12-17|        19400|          20000|\n",
      "|2021-12-20|        19400|          20000|\n",
      "|2021-12-25|        19400|          20000|\n",
      "+----------+-------------+---------------+\n",
      "only showing top 5 rows\n",
      "\n"
     ]
    }
   ],
   "source": [
    "#Sorting\n",
    "df.filter((df['Jakarta Pusat'] > 18000) & (df['Jakarta Selatan'] == 20000)). \\\n",
    "orderBy('Jakarta Pusat', ascending = False).select('Tanggal', 'Jakarta Pusat', 'Jakarta Selatan').show(5)"
   ]
  },
  {
   "cell_type": "code",
   "execution_count": 14,
   "id": "b34f1e3c",
   "metadata": {},
   "outputs": [
    {
     "name": "stdout",
     "output_type": "stream",
     "text": [
      "+----------+-------------+-------------+---------------+-------------+-------------+\n",
      "|   Tanggal|Jakarta Barat|Jakarta Pusat|Jakarta Selatan|Jakarta Timur|Jakarta Utara|\n",
      "+----------+-------------+-------------+---------------+-------------+-------------+\n",
      "|2023-12-01|        15500|        15778|          15786|        15750|        15800|\n",
      "|2023-12-02|        15714|        15667|          15857|        15850|        15667|\n",
      "|2023-12-03|        15571|        15667|          15786|        15813|        16000|\n",
      "|2023-12-04|        15714|        15778|          15786|        15850|        15600|\n",
      "|2023-12-05|        15714|        15778|          15786|        15750|        15667|\n",
      "|2023-12-06|        15714|        15778|          15786|        15773|        15667|\n",
      "|2023-12-07|        15714|        15889|          15786|        15773|        15667|\n",
      "|2023-12-08|        15667|        15778|          13871|        15833|        15500|\n",
      "|2023-12-09|        15667|        15875|          15929|        15750|        15800|\n",
      "|2023-12-10|        15714|        15778|          15929|        15750|        15667|\n",
      "|2023-12-11|        15714|        15778|          16167|        15773|        15500|\n",
      "|2023-12-12|        15714|        15875|          15929|        15850|        15667|\n",
      "|2023-12-13|        15667|        15875|          15929|        15850|        15800|\n",
      "|2023-12-14|        15667|        16000|          15929|        15850|        15800|\n",
      "|2023-12-15|        15714|        15778|          15929|        15850|        15667|\n",
      "|2023-12-16|        15857|        15813|          15929|        15850|        15667|\n",
      "|2023-12-17|        15714|        15778|          15929|        15955|        15667|\n",
      "|2023-12-18|        15714|        15889|          15929|        15850|        15667|\n",
      "|2023-12-19|        15667|        15944|          15929|        15833|        15667|\n",
      "|2023-12-20|        15714|        15944|          15929|        15955|        15800|\n",
      "+----------+-------------+-------------+---------------+-------------+-------------+\n",
      "\n"
     ]
    }
   ],
   "source": [
    "df.filter(df['Tanggal'].like('%2023-12%')).show(20)"
   ]
  },
  {
   "cell_type": "code",
   "execution_count": 15,
   "id": "3f365ac2",
   "metadata": {},
   "outputs": [
    {
     "name": "stdout",
     "output_type": "stream",
     "text": [
      "+-------------------+-------------+-------------+---------------+-------------+-------------+\n",
      "|            tanggal|Jakarta Barat|Jakarta Pusat|Jakarta Selatan|Jakarta Timur|Jakarta Utara|\n",
      "+-------------------+-------------+-------------+---------------+-------------+-------------+\n",
      "|2021-01-01 00:00:00|        14143|        13800|          14400|        13542|        13813|\n",
      "|2021-01-02 00:00:00|        14000|        13700|          14500|        13375|        13813|\n",
      "|2021-01-03 00:00:00|        14143|        13700|          14350|        13542|        13813|\n",
      "|2021-01-04 00:00:00|        13929|        13750|          14250|        13542|        13813|\n",
      "|2021-01-05 00:00:00|        14000|        13850|          14200|        13542|        13813|\n",
      "+-------------------+-------------+-------------+---------------+-------------+-------------+\n",
      "only showing top 5 rows\n",
      "\n",
      "root\n",
      " |-- tanggal: timestamp (nullable = true)\n",
      " |-- Jakarta Barat: integer (nullable = true)\n",
      " |-- Jakarta Pusat: integer (nullable = true)\n",
      " |-- Jakarta Selatan: integer (nullable = true)\n",
      " |-- Jakarta Timur: integer (nullable = true)\n",
      " |-- Jakarta Utara: integer (nullable = true)\n",
      " |-- timestamp_numeric: long (nullable = true)\n",
      "\n"
     ]
    }
   ],
   "source": [
    "from pyspark.ml.feature import VectorAssembler\n",
    "from pyspark.ml.regression import LinearRegression\n",
    "from pyspark.sql import SparkSession\n",
    "from pyspark.sql.functions import to_timestamp\n",
    "\n",
    "# Convert string date column to timestamp\n",
    "df = df.withColumn(\"tanggal\", to_timestamp(df[\"tanggal\"]))\n",
    "\n",
    "df.show(5)\n",
    "\n",
    "# Convert timestamp to numeric (Unix timestamp in seconds)\n",
    "df = df.withColumn(\"timestamp_numeric\", df[\"tanggal\"].cast(\"long\"))\n",
    "df.printSchema()"
   ]
  },
  {
   "cell_type": "code",
   "execution_count": 16,
   "id": "2ece8840",
   "metadata": {},
   "outputs": [],
   "source": [
    "# Buat VectorAssembler untuk menggabungkan fitur\n",
    "assembler = VectorAssembler(inputCols=['timestamp_numeric'], outputCol='features', handleInvalid='skip')\n",
    "\n",
    "# Transformasi DataFrame menggunakan VectorAssembler\n",
    "df = assembler.transform(df)\n",
    "# Hilangkan baris yang mengandung nilai null setelah transformasi\n",
    "df = df.dropna()"
   ]
  },
  {
   "cell_type": "code",
   "execution_count": 17,
   "id": "52355af7",
   "metadata": {},
   "outputs": [],
   "source": [
    "# Pembagian data menjadi train dan test (80-20%)\n",
    "train_data, test_data = df.randomSplit([0.8, 0.2], seed=123)"
   ]
  },
  {
   "cell_type": "code",
   "execution_count": 18,
   "id": "19f7575b",
   "metadata": {},
   "outputs": [],
   "source": [
    "# Membuat model Linear Regression\n",
    "lr_jakbar = LinearRegression(labelCol='Jakarta Barat', featuresCol='features')\n",
    "lr_jaksel = LinearRegression(labelCol='Jakarta Selatan', featuresCol='features')\n",
    "lr_jakpus = LinearRegression(labelCol='Jakarta Pusat', featuresCol='features')\n",
    "lr_jaktim = LinearRegression(labelCol='Jakarta Timur', featuresCol='features')\n",
    "lr_jakut = LinearRegression(labelCol='Jakarta Utara', featuresCol='features')\n",
    "\n",
    "# Melatih model menggunakan data training\n",
    "model_jakbar = lr_jakbar.fit(train_data)\n",
    "model_jaksel = lr_jaksel.fit(train_data)\n",
    "model_jakpus = lr_jakpus.fit(train_data)\n",
    "model_jaktim = lr_jaktim.fit(train_data)\n",
    "model_jakut = lr_jakut.fit(train_data)"
   ]
  },
  {
   "cell_type": "code",
   "execution_count": 20,
   "id": "211cd834",
   "metadata": {},
   "outputs": [
    {
     "name": "stdout",
     "output_type": "stream",
     "text": [
      "root\n",
      " |-- tanggal: timestamp (nullable = true)\n",
      " |-- Jakarta Barat: integer (nullable = true)\n",
      " |-- Jakarta Pusat: integer (nullable = true)\n",
      " |-- Jakarta Selatan: integer (nullable = true)\n",
      " |-- Jakarta Timur: integer (nullable = true)\n",
      " |-- Jakarta Utara: integer (nullable = true)\n",
      " |-- timestamp_numeric: long (nullable = true)\n",
      " |-- features: vector (nullable = true)\n",
      " |-- prediction: double (nullable = false)\n",
      "\n",
      "root\n",
      " |-- tanggal: timestamp (nullable = true)\n",
      " |-- Jakarta Barat: integer (nullable = true)\n",
      " |-- Jakarta Pusat: integer (nullable = true)\n",
      " |-- Jakarta Selatan: integer (nullable = true)\n",
      " |-- Jakarta Timur: integer (nullable = true)\n",
      " |-- Jakarta Utara: integer (nullable = true)\n",
      " |-- timestamp_numeric: long (nullable = true)\n",
      " |-- features: vector (nullable = true)\n",
      " |-- prediction: double (nullable = false)\n",
      "\n",
      "root\n",
      " |-- tanggal: timestamp (nullable = true)\n",
      " |-- Jakarta Barat: integer (nullable = true)\n",
      " |-- Jakarta Pusat: integer (nullable = true)\n",
      " |-- Jakarta Selatan: integer (nullable = true)\n",
      " |-- Jakarta Timur: integer (nullable = true)\n",
      " |-- Jakarta Utara: integer (nullable = true)\n",
      " |-- timestamp_numeric: long (nullable = true)\n",
      " |-- features: vector (nullable = true)\n",
      " |-- prediction: double (nullable = false)\n",
      "\n",
      "root\n",
      " |-- tanggal: timestamp (nullable = true)\n",
      " |-- Jakarta Barat: integer (nullable = true)\n",
      " |-- Jakarta Pusat: integer (nullable = true)\n",
      " |-- Jakarta Selatan: integer (nullable = true)\n",
      " |-- Jakarta Timur: integer (nullable = true)\n",
      " |-- Jakarta Utara: integer (nullable = true)\n",
      " |-- timestamp_numeric: long (nullable = true)\n",
      " |-- features: vector (nullable = true)\n",
      " |-- prediction: double (nullable = false)\n",
      "\n",
      "root\n",
      " |-- tanggal: timestamp (nullable = true)\n",
      " |-- Jakarta Barat: integer (nullable = true)\n",
      " |-- Jakarta Pusat: integer (nullable = true)\n",
      " |-- Jakarta Selatan: integer (nullable = true)\n",
      " |-- Jakarta Timur: integer (nullable = true)\n",
      " |-- Jakarta Utara: integer (nullable = true)\n",
      " |-- timestamp_numeric: long (nullable = true)\n",
      " |-- features: vector (nullable = true)\n",
      " |-- prediction: double (nullable = false)\n",
      "\n",
      "+-------------------+-------------+-------------+---------------+-------------+-------------+-----------------+-------------+------------------+\n",
      "|            tanggal|Jakarta Barat|Jakarta Pusat|Jakarta Selatan|Jakarta Timur|Jakarta Utara|timestamp_numeric|     features|        prediction|\n",
      "+-------------------+-------------+-------------+---------------+-------------+-------------+-----------------+-------------+------------------+\n",
      "|2021-01-03 00:00:00|        14143|        13700|          14350|        13542|        13813|       1609606800|[1.6096068E9]|16272.094115812024|\n",
      "|2021-01-07 00:00:00|        14000|        13750|          14300|        13583|        13813|       1609952400|[1.6099524E9]|16270.282817388726|\n",
      "|2021-01-13 00:00:00|        13857|        13850|          14200|        13500|        13813|       1610470800|[1.6104708E9]|16267.565869753782|\n",
      "|2021-01-14 00:00:00|        14143|        13950|          14250|        13500|        13875|       1610557200|[1.6105572E9]|16267.113045147957|\n",
      "|2021-01-19 00:00:00|        14143|        13850|          14100|        13542|        13750|       1610989200|[1.6109892E9]|16264.848922118837|\n",
      "|2021-01-24 00:00:00|        14143|        13900|          14200|        13583|        13938|       1611421200|[1.6114212E9]|16262.584799089716|\n",
      "|2021-01-30 00:00:00|        14429|        13800|          14150|        13583|        13875|       1611939600|[1.6119396E9]| 16259.86785145477|\n",
      "|2021-01-31 00:00:00|        14429|        13800|          14200|        13583|        13875|       1612026000| [1.612026E9]|16259.415026848947|\n",
      "|2021-02-03 00:00:00|        14429|        13800|          14300|        13500|        13750|       1612285200|[1.6122852E9]|16258.056553031474|\n",
      "|2021-02-04 00:00:00|        14429|        13800|          14350|        13750|        13688|       1612371600|[1.6123716E9]| 16257.60372842565|\n",
      "|2021-02-05 00:00:00|        14429|        13800|          14350|        13792|        13750|       1612458000| [1.612458E9]|16257.150903819826|\n",
      "|2021-02-08 00:00:00|        14429|        13800|          14300|        13792|        13750|       1612717200|[1.6127172E9]|16255.792430002353|\n",
      "|2021-02-10 00:00:00|        14429|        13800|          14250|        13958|        13813|       1612890000|  [1.61289E9]|16254.886780790705|\n",
      "|2021-02-17 00:00:00|        14429|        13650|          14300|        13750|        13875|       1613494800|[1.6134948E9]|16251.717008549937|\n",
      "|2021-02-25 00:00:00|        14143|        13650|          14100|        13625|        13875|       1614186000| [1.614186E9]|16248.094411703343|\n",
      "|2021-03-03 00:00:00|        14143|        13750|          14200|        13667|        13875|       1614704400|[1.6147044E9]|16245.377464068397|\n",
      "|2021-03-19 00:00:00|        14429|        13550|          14250|        13625|        14000|       1616086800|[1.6160868E9]| 16238.13227037521|\n",
      "|2021-03-22 00:00:00|        14214|        13650|          14200|        13625|        13938|       1616346000| [1.616346E9]|16236.773796557738|\n",
      "|2021-03-27 00:00:00|        14714|        13650|          14250|        13708|        14000|       1616778000| [1.616778E9]|16234.509673528617|\n",
      "|2021-04-06 00:00:00|        14714|        13650|          14250|        13792|        14125|       1617642000| [1.617642E9]|16229.981427470377|\n",
      "+-------------------+-------------+-------------+---------------+-------------+-------------+-----------------+-------------+------------------+\n",
      "only showing top 20 rows\n",
      "\n",
      "+-------------------+-------------+-------------+---------------+-------------+-------------+-----------------+-------------+------------------+\n",
      "|            tanggal|Jakarta Barat|Jakarta Pusat|Jakarta Selatan|Jakarta Timur|Jakarta Utara|timestamp_numeric|     features|        prediction|\n",
      "+-------------------+-------------+-------------+---------------+-------------+-------------+-----------------+-------------+------------------+\n",
      "|2021-01-03 00:00:00|        14143|        13700|          14350|        13542|        13813|       1609606800|[1.6096068E9]|16395.595858548157|\n",
      "|2021-01-07 00:00:00|        14000|        13750|          14300|        13583|        13813|       1609952400|[1.6099524E9]| 16394.33763936507|\n",
      "|2021-01-13 00:00:00|        13857|        13850|          14200|        13500|        13813|       1610470800|[1.6104708E9]|16392.450310590437|\n",
      "|2021-01-14 00:00:00|        14143|        13950|          14250|        13500|        13875|       1610557200|[1.6105572E9]|16392.135755794665|\n",
      "|2021-01-19 00:00:00|        14143|        13850|          14100|        13542|        13750|       1610989200|[1.6109892E9]|16390.562981815805|\n",
      "|2021-01-24 00:00:00|        14143|        13900|          14200|        13583|        13938|       1611421200|[1.6114212E9]| 16388.99020783695|\n",
      "|2021-01-30 00:00:00|        14429|        13800|          14150|        13583|        13875|       1611939600|[1.6119396E9]|16387.102879062317|\n",
      "|2021-01-31 00:00:00|        14429|        13800|          14200|        13583|        13875|       1612026000| [1.612026E9]|16386.788324266545|\n",
      "|2021-02-03 00:00:00|        14429|        13800|          14300|        13500|        13750|       1612285200|[1.6122852E9]| 16385.84465987923|\n",
      "|2021-02-04 00:00:00|        14429|        13800|          14350|        13750|        13688|       1612371600|[1.6123716E9]|16385.530105083457|\n",
      "|2021-02-05 00:00:00|        14429|        13800|          14350|        13792|        13750|       1612458000| [1.612458E9]|16385.215550287685|\n",
      "|2021-02-08 00:00:00|        14429|        13800|          14300|        13792|        13750|       1612717200|[1.6127172E9]| 16384.27188590037|\n",
      "|2021-02-10 00:00:00|        14429|        13800|          14250|        13958|        13813|       1612890000|  [1.61289E9]|16383.642776308825|\n",
      "|2021-02-17 00:00:00|        14429|        13650|          14300|        13750|        13875|       1613494800|[1.6134948E9]|16381.440892738423|\n",
      "|2021-02-25 00:00:00|        14143|        13650|          14100|        13625|        13875|       1614186000| [1.614186E9]|16378.924454372249|\n",
      "|2021-03-03 00:00:00|        14143|        13750|          14200|        13667|        13875|       1614704400|[1.6147044E9]|16377.037125597617|\n",
      "|2021-03-19 00:00:00|        14429|        13550|          14250|        13625|        14000|       1616086800|[1.6160868E9]|16372.004248865267|\n",
      "|2021-03-22 00:00:00|        14214|        13650|          14200|        13625|        13938|       1616346000| [1.616346E9]|16371.060584477951|\n",
      "|2021-03-27 00:00:00|        14714|        13650|          14250|        13708|        14000|       1616778000| [1.616778E9]|16369.487810499093|\n",
      "|2021-04-06 00:00:00|        14714|        13650|          14250|        13792|        14125|       1617642000| [1.617642E9]|16366.342262541373|\n",
      "+-------------------+-------------+-------------+---------------+-------------+-------------+-----------------+-------------+------------------+\n",
      "only showing top 20 rows\n",
      "\n"
     ]
    },
    {
     "name": "stdout",
     "output_type": "stream",
     "text": [
      "+-------------------+-------------+-------------+---------------+-------------+-------------+-----------------+-------------+------------------+\n",
      "|            tanggal|Jakarta Barat|Jakarta Pusat|Jakarta Selatan|Jakarta Timur|Jakarta Utara|timestamp_numeric|     features|        prediction|\n",
      "+-------------------+-------------+-------------+---------------+-------------+-------------+-----------------+-------------+------------------+\n",
      "|2021-01-03 00:00:00|        14143|        13700|          14350|        13542|        13813|       1609606800|[1.6096068E9]|15445.799214001709|\n",
      "|2021-01-07 00:00:00|        14000|        13750|          14300|        13583|        13813|       1609952400|[1.6099524E9]|15449.228807898098|\n",
      "|2021-01-13 00:00:00|        13857|        13850|          14200|        13500|        13813|       1610470800|[1.6104708E9]| 15454.37319874268|\n",
      "|2021-01-14 00:00:00|        14143|        13950|          14250|        13500|        13875|       1610557200|[1.6105572E9]|15455.230597216778|\n",
      "|2021-01-19 00:00:00|        14143|        13850|          14100|        13542|        13750|       1610989200|[1.6109892E9]|15459.517589587264|\n",
      "|2021-01-24 00:00:00|        14143|        13900|          14200|        13583|        13938|       1611421200|[1.6114212E9]|15463.804581957751|\n",
      "|2021-01-30 00:00:00|        14429|        13800|          14150|        13583|        13875|       1611939600|[1.6119396E9]|15468.948972802333|\n",
      "|2021-01-31 00:00:00|        14429|        13800|          14200|        13583|        13875|       1612026000| [1.612026E9]| 15469.80637127643|\n",
      "|2021-02-03 00:00:00|        14429|        13800|          14300|        13500|        13750|       1612285200|[1.6122852E9]|15472.378566698722|\n",
      "|2021-02-04 00:00:00|        14429|        13800|          14350|        13750|        13688|       1612371600|[1.6123716E9]| 15473.23596517282|\n",
      "|2021-02-05 00:00:00|        14429|        13800|          14350|        13792|        13750|       1612458000| [1.612458E9]|15474.093363646916|\n",
      "|2021-02-08 00:00:00|        14429|        13800|          14300|        13792|        13750|       1612717200|[1.6127172E9]|15476.665559069208|\n",
      "|2021-02-10 00:00:00|        14429|        13800|          14250|        13958|        13813|       1612890000|  [1.61289E9]|15478.380356017402|\n",
      "|2021-02-17 00:00:00|        14429|        13650|          14300|        13750|        13875|       1613494800|[1.6134948E9]|15484.382145336083|\n",
      "|2021-02-25 00:00:00|        14143|        13650|          14100|        13625|        13875|       1614186000| [1.614186E9]| 15491.24133312886|\n",
      "|2021-03-03 00:00:00|        14143|        13750|          14200|        13667|        13875|       1614704400|[1.6147044E9]|15496.385723973444|\n",
      "|2021-03-19 00:00:00|        14429|        13550|          14250|        13625|        14000|       1616086800|[1.6160868E9]|   15510.104099559|\n",
      "|2021-03-22 00:00:00|        14214|        13650|          14200|        13625|        13938|       1616346000| [1.616346E9]|15512.676294981291|\n",
      "|2021-03-27 00:00:00|        14714|        13650|          14250|        13708|        14000|       1616778000| [1.616778E9]|15516.963287351777|\n",
      "|2021-04-06 00:00:00|        14714|        13650|          14250|        13792|        14125|       1617642000| [1.617642E9]| 15525.53727209275|\n",
      "+-------------------+-------------+-------------+---------------+-------------+-------------+-----------------+-------------+------------------+\n",
      "only showing top 20 rows\n",
      "\n",
      "+-------------------+-------------+-------------+---------------+-------------+-------------+-----------------+-------------+------------------+\n",
      "|            tanggal|Jakarta Barat|Jakarta Pusat|Jakarta Selatan|Jakarta Timur|Jakarta Utara|timestamp_numeric|     features|        prediction|\n",
      "+-------------------+-------------+-------------+---------------+-------------+-------------+-----------------+-------------+------------------+\n",
      "|2021-01-03 00:00:00|        14143|        13700|          14350|        13542|        13813|       1609606800|[1.6096068E9]| 15368.93163377762|\n",
      "|2021-01-07 00:00:00|        14000|        13750|          14300|        13583|        13813|       1609952400|[1.6099524E9]|15372.099377812568|\n",
      "|2021-01-13 00:00:00|        13857|        13850|          14200|        13500|        13813|       1610470800|[1.6104708E9]|15376.850993864991|\n",
      "|2021-01-14 00:00:00|        14143|        13950|          14250|        13500|        13875|       1610557200|[1.6105572E9]|15377.642929873728|\n",
      "|2021-01-19 00:00:00|        14143|        13850|          14100|        13542|        13750|       1610989200|[1.6109892E9]|15381.602609917414|\n",
      "|2021-01-24 00:00:00|        14143|        13900|          14200|        13583|        13938|       1611421200|[1.6114212E9]|  15385.5622899611|\n",
      "|2021-01-30 00:00:00|        14429|        13800|          14150|        13583|        13875|       1611939600|[1.6119396E9]|15390.313906013524|\n",
      "|2021-01-31 00:00:00|        14429|        13800|          14200|        13583|        13875|       1612026000| [1.612026E9]|15391.105842022262|\n",
      "|2021-02-03 00:00:00|        14429|        13800|          14300|        13500|        13750|       1612285200|[1.6122852E9]|15393.481650048472|\n",
      "|2021-02-04 00:00:00|        14429|        13800|          14350|        13750|        13688|       1612371600|[1.6123716E9]| 15394.27358605721|\n",
      "|2021-02-05 00:00:00|        14429|        13800|          14350|        13792|        13750|       1612458000| [1.612458E9]|15395.065522065946|\n",
      "|2021-02-08 00:00:00|        14429|        13800|          14300|        13792|        13750|       1612717200|[1.6127172E9]|15397.441330092159|\n",
      "|2021-02-10 00:00:00|        14429|        13800|          14250|        13958|        13813|       1612890000|  [1.61289E9]|15399.025202109633|\n",
      "|2021-02-17 00:00:00|        14429|        13650|          14300|        13750|        13875|       1613494800|[1.6134948E9]|15404.568754170794|\n",
      "|2021-02-25 00:00:00|        14143|        13650|          14100|        13625|        13875|       1614186000| [1.614186E9]|15410.904242240691|\n",
      "|2021-03-03 00:00:00|        14143|        13750|          14200|        13667|        13875|       1614704400|[1.6147044E9]|15415.655858293114|\n",
      "|2021-03-19 00:00:00|        14429|        13550|          14250|        13625|        14000|       1616086800|[1.6160868E9]| 15428.32683443291|\n",
      "|2021-03-22 00:00:00|        14214|        13650|          14200|        13625|        13938|       1616346000| [1.616346E9]| 15430.70264245912|\n",
      "|2021-03-27 00:00:00|        14714|        13650|          14250|        13708|        14000|       1616778000| [1.616778E9]|15434.662322502807|\n",
      "|2021-04-06 00:00:00|        14714|        13650|          14250|        13792|        14125|       1617642000| [1.617642E9]|15442.581682590178|\n",
      "+-------------------+-------------+-------------+---------------+-------------+-------------+-----------------+-------------+------------------+\n",
      "only showing top 20 rows\n",
      "\n",
      "+-------------------+-------------+-------------+---------------+-------------+-------------+-----------------+-------------+------------------+\n",
      "|            tanggal|Jakarta Barat|Jakarta Pusat|Jakarta Selatan|Jakarta Timur|Jakarta Utara|timestamp_numeric|     features|        prediction|\n",
      "+-------------------+-------------+-------------+---------------+-------------+-------------+-----------------+-------------+------------------+\n",
      "|2021-01-03 00:00:00|        14143|        13700|          14350|        13542|        13813|       1609606800|[1.6096068E9]|15727.126797974794|\n",
      "|2021-01-07 00:00:00|        14000|        13750|          14300|        13583|        13813|       1609952400|[1.6099524E9]|15728.152411418185|\n",
      "|2021-01-13 00:00:00|        13857|        13850|          14200|        13500|        13813|       1610470800|[1.6104708E9]|15729.690831583272|\n",
      "|2021-01-14 00:00:00|        14143|        13950|          14250|        13500|        13875|       1610557200|[1.6105572E9]|15729.947234944118|\n",
      "|2021-01-19 00:00:00|        14143|        13850|          14100|        13542|        13750|       1610989200|[1.6109892E9]|15731.229251748358|\n",
      "|2021-01-24 00:00:00|        14143|        13900|          14200|        13583|        13938|       1611421200|[1.6114212E9]|15732.511268552596|\n",
      "|2021-01-30 00:00:00|        14429|        13800|          14150|        13583|        13875|       1611939600|[1.6119396E9]|15734.049688717683|\n",
      "|2021-01-31 00:00:00|        14429|        13800|          14200|        13583|        13875|       1612026000| [1.612026E9]|15734.306092078532|\n",
      "|2021-02-03 00:00:00|        14429|        13800|          14300|        13500|        13750|       1612285200|[1.6122852E9]|15735.075302161074|\n",
      "|2021-02-04 00:00:00|        14429|        13800|          14350|        13750|        13688|       1612371600|[1.6123716E9]|15735.331705521923|\n",
      "|2021-02-05 00:00:00|        14429|        13800|          14350|        13792|        13750|       1612458000| [1.612458E9]| 15735.58810888277|\n",
      "|2021-02-08 00:00:00|        14429|        13800|          14300|        13792|        13750|       1612717200|[1.6127172E9]|15736.357318965314|\n",
      "|2021-02-10 00:00:00|        14429|        13800|          14250|        13958|        13813|       1612890000|  [1.61289E9]|15736.870125687008|\n",
      "|2021-02-17 00:00:00|        14429|        13650|          14300|        13750|        13875|       1613494800|[1.6134948E9]|15738.664949212944|\n",
      "|2021-02-25 00:00:00|        14143|        13650|          14100|        13625|        13875|       1614186000| [1.614186E9]|15740.716176099726|\n",
      "|2021-03-03 00:00:00|        14143|        13750|          14200|        13667|        13875|       1614704400|[1.6147044E9]|15742.254596264813|\n",
      "|2021-03-19 00:00:00|        14429|        13550|          14250|        13625|        14000|       1616086800|[1.6160868E9]|15746.357050038378|\n",
      "|2021-03-22 00:00:00|        14214|        13650|          14200|        13625|        13938|       1616346000| [1.616346E9]| 15747.12626012092|\n",
      "|2021-03-27 00:00:00|        14714|        13650|          14250|        13708|        14000|       1616778000| [1.616778E9]| 15748.40827692516|\n",
      "|2021-04-06 00:00:00|        14714|        13650|          14250|        13792|        14125|       1617642000| [1.617642E9]|15750.972310533638|\n",
      "+-------------------+-------------+-------------+---------------+-------------+-------------+-----------------+-------------+------------------+\n",
      "only showing top 20 rows\n",
      "\n"
     ]
    }
   ],
   "source": [
    "# Melakukan prediksi menggunakan data test\n",
    "predictions_jakbar = model_jakbar.transform(test_data)\n",
    "predictions_jaksel = model_jaksel.transform(test_data)\n",
    "predictions_jakpus = model_jakpus.transform(test_data)\n",
    "predictions_jaktim = model_jaktim.transform(test_data)\n",
    "predictions_jakut = model_jakut.transform(test_data)\n",
    "\n",
    "predictions_jakbar.printSchema()\n",
    "predictions_jaksel.printSchema()\n",
    "predictions_jakpus.printSchema()\n",
    "predictions_jaktim.printSchema()\n",
    "predictions_jakut.printSchema()\n",
    "\n",
    "# Tampilkan hasil prediksi\n",
    "predictions_jakbar.show()\n",
    "predictions_jaksel.show()\n",
    "predictions_jakpus.show()\n",
    "predictions_jaktim.show()\n",
    "predictions_jakut.show()"
   ]
  },
  {
   "cell_type": "code",
   "execution_count": 21,
   "id": "715f0b0a",
   "metadata": {},
   "outputs": [],
   "source": [
    "from pyspark.sql.functions import monotonically_increasing_id\n",
    "\n",
    "predictions_jakbar = predictions_jakbar.withColumn(\"index\", monotonically_increasing_id())\n",
    "predictions_jaksel = predictions_jaksel.withColumn(\"index\", monotonically_increasing_id())\n",
    "predictions_jakpus = predictions_jakpus.withColumn(\"index\", monotonically_increasing_id())\n",
    "predictions_jaktim = predictions_jaktim.withColumn(\"index\", monotonically_increasing_id())\n",
    "predictions_jakut = predictions_jakut.withColumn(\"index\", monotonically_increasing_id())"
   ]
  },
  {
   "cell_type": "code",
   "execution_count": 27,
   "id": "af5c4181",
   "metadata": {},
   "outputs": [
    {
     "data": {
      "image/png": "[encoded data removed]",
      "text/plain": [
       "<Figure size 1000x600 with 1 Axes>"
      ]
     },
     "metadata": {},
     "output_type": "display_data"
    }
   ],
   "source": [
    "import matplotlib.pyplot as plt\n",
    "\n",
    "\n",
    "# Ambil harga minyak goreng rata-rata sebagai array NumPy\n",
    "jakbar = predictions_jakbar.select(\"prediction\").toPandas()[\"prediction\"].to_numpy()\n",
    "jaksel = predictions_jaksel.select(\"prediction\").toPandas()[\"prediction\"].to_numpy()\n",
    "jakpus = predictions_jakpus.select(\"prediction\").toPandas()[\"prediction\"].to_numpy()\n",
    "jaktim = predictions_jaktim.select(\"prediction\").toPandas()[\"prediction\"].to_numpy()\n",
    "jakut = predictions_jakut.select(\"prediction\").toPandas()[\"prediction\"].to_numpy()\n",
    "\n",
    "# bulan = predictions.select([\"bulan_tahun\"]).toPandas()[\"bulan_tahun\"].to_numpy()\n",
    "index_jakbar = predictions_jakbar.select([\"index\"]).toPandas()[\"index\"].to_numpy()\n",
    "index_jaksel = predictions_jaksel.select([\"index\"]).toPandas()[\"index\"].to_numpy()\n",
    "index_jakpus = predictions_jakpus.select([\"index\"]).toPandas()[\"index\"].to_numpy()\n",
    "index_jaktim = predictions_jaktim.select([\"index\"]).toPandas()[\"index\"].to_numpy()\n",
    "index_jakut = predictions_jakut.select([\"index\"]).toPandas()[\"index\"].to_numpy()\n",
    "\n",
    "# Visualisasi menggunakan Matplotlib\n",
    "plt.figure(figsize=(10, 6))\n",
    "\n",
    "plt.plot(index_jakbar, jakbar, label=\"Jakarta Barat\", marker='o', linestyle='-')\n",
    "plt.plot(index_jaksel, jaksel, label=\"Jakarta Selatan\", marker='o', linestyle='-')\n",
    "plt.plot(index_jakpus, jakpus, label=\"Jakarta Pusat\", marker='o', linestyle='-')\n",
    "plt.plot(index_jaktim, jaktim, label=\"Jakarta Timur\", marker='o', linestyle='-')\n",
    "plt.plot(index_jakut, jakut, label=\"Jakarta Utara\", marker='o', linestyle='-')\n",
    "\n",
    "plt.title(\"Rata-rata Harga per Tanggal\")\n",
    "plt.xlabel(\"Prediksi (dalam hari)\")\n",
    "plt.ylabel(\"Harga Prediksi\")\n",
    "plt.xticks(rotation=45)\n",
    "plt.tight_layout()\n",
    "plt.legend()\n",
    "plt.show()"
   ]
  },
  {
   "cell_type": "code",
   "execution_count": 29,
   "id": "17352e85",
   "metadata": {},
   "outputs": [],
   "source": [
    "spark.stop()"
   ]
  }
 ],
 "metadata": {
  "kernelspec": {
   "display_name": "Python 3 (ipykernel)",
   "language": "python",
   "name": "python3"
  },
  "language_info": {
   "codemirror_mode": {
    "name": "ipython",
    "version": 3
   },
   "file_extension": ".py",
   "mimetype": "text/x-python",
   "name": "python",
   "nbconvert_exporter": "python",
   "pygments_lexer": "ipython3",
   "version": "3.11.4"
  }
 },
 "nbformat": 4,
 "nbformat_minor": 5
}
